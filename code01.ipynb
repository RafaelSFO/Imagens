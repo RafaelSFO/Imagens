{
 "metadata": {
  "language_info": {
   "codemirror_mode": {
    "name": "ipython",
    "version": 3
   },
   "file_extension": ".py",
   "mimetype": "text/x-python",
   "name": "python",
   "nbconvert_exporter": "python",
   "pygments_lexer": "ipython3",
   "version": "3.8.3"
  },
  "orig_nbformat": 2,
  "kernelspec": {
   "name": "python383jvsc74a57bd034b32c09fca0dd30a3ba6c40048e557e98de75de4e8570002b37180823920224",
   "display_name": "Python 3.8.3 64-bit ('base': conda)"
  }
 },
 "nbformat": 4,
 "nbformat_minor": 2,
 "cells": [
  {
   "source": [
    "<h2>Algoritmo de testagem para conseguir pegar pixels de uma imagem</h2>\n"
   ],
   "cell_type": "markdown",
   "metadata": {}
  },
  {
   "cell_type": "code",
   "execution_count": 9,
   "metadata": {},
   "outputs": [
    {
     "output_type": "stream",
     "name": "stdout",
     "text": [
      "(131, 131, 131)\n"
     ]
    }
   ],
   "source": [
    "from PIL import Image\n",
    "img = Image.open(\"images.jfif\")\n",
    "print(img.getpixel((100,100)))\n",
    "img.show()\n"
   ]
  },
  {
   "source": [
    "<h2>Testagem com ambiente virtual, girando e salvando novamente uma imagem</h2>\n"
   ],
   "cell_type": "markdown",
   "metadata": {}
  },
  {
   "cell_type": "code",
   "execution_count": 1,
   "metadata": {},
   "outputs": [],
   "source": [
    "from PIL import Image \n",
    "infile = 'images.jfif'\n",
    "outfile = 'images.jfif'\n",
    "img = Image.open(infile)\n",
    "img.rotate(90).save(outfile)\n",
    "#teste\n",
    "\n"
   ]
  },
  {
   "source": [
    "<h2>Criando imagens do zero com pixels</h2>"
   ],
   "cell_type": "markdown",
   "metadata": {}
  },
  {
   "source": [
    "from PIL import Image\n",
    "import os\n",
    "\n",
    "INPUT_FOLDER = 'input'\n",
    "OUTPUT_FOLDER = 'output'\n",
    "#retorna o endereço relativo dentro da pasta 'input'\n",
    "def in_path(filename):\n",
    "    return os.path.join(INPUT_FOLDER, filename)\n",
    "\n",
    "img  = Image.new(\"RGB\",(700,700), (130,255,100))\n",
    "\n",
    "\n",
    "def triangle(size):\n",
    "    WHITE = (255,255,255)\n",
    "    BLACK = (0,0,0)\n",
    "    img = Image.new(\"RGB\", (size,size), WHITE)\n",
    "\n",
    "    for x in range(size):\n",
    "        for y in range(size):\n",
    "            if x < y:\n",
    "                img.putpixel((x,y), BLACK)\n",
    "    return img\n",
    "\n",
    "def bandeira_franca(height):\n",
    "    width = 3*height//2\n",
    "    BLUE = (0,85,164)\n",
    "    WHITE = (255,255,255)\n",
    "    RED = (239,65,53)\n",
    "    img = Image.new(\"RGB\", (width, height), WHITE)\n",
    "    offset = width//3\n",
    "    for x in range(offset): \n",
    "        for y in range(height):\n",
    "            img.putpixel((x,y), BLUE)\n",
    "            img.putpixel((x + 2*offset,y), RED)\n",
    "    return img\n",
    "\n",
    "\n",
    "\n",
    "if __name__==\"__main__\":\n",
    "    #t = triangle(700)\n",
    "    #t.show()\n",
    "    band = bandeira_franca(700)\n",
    "    band.show()\n",
    "\n",
    "\n",
    "\n"
   ],
   "cell_type": "code",
   "metadata": {},
   "execution_count": 12,
   "outputs": []
  },
  {
   "cell_type": "code",
   "execution_count": null,
   "metadata": {},
   "outputs": [],
   "source": []
  }
 ]
}